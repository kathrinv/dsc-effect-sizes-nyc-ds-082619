{
 "cells": [
  {
   "cell_type": "markdown",
   "metadata": {},
   "source": [
    "# Effect Size \n",
    "\n",
    "## Introduction\n",
    "\n",
    "When comparing results between groups, and results prove to be different, it is important to understand what the size of the difference is. You'll learn about that here!\n",
    "\n",
    "## Objectives\n",
    "\n",
    "* Illustrate a clear understanding of the terms \"Effect\" and \"Effect Size\" in a statistical context\n",
    "* Compare and contrast p-value and effect size for identifying the significance of results\n",
    "* Calculate simple (unstandardized) effect size using Python and SciPy\n",
    "* Interpret the results of simple effect size and identify shortcomings of this approach\n",
    "* Calculate the standardized effect size using Cohen's d statistic\n",
    "* Visualize and Interpret the $d$ value as size of effect\n",
    "\n",
    "## Introduction to Effect Size\n",
    "\n",
    "Effect size is used to quantify the *size of the difference* between two groups under observation. Effect sizes are easy to calculate, understand and apply to any measured outcome and are applicable to a multitude of study domains. It is highly valuable towards quantifying the *effectiveness of a particular intervention, relative to some comparison*. Measuring effect size allows scientists to go beyond the obvious and simplistic *'Does it work or not?'* to the far more sophisticated, *'How well does it work in a range of contexts?'*. \n",
    "\n",
    "[More on effect size](https://www.slideshare.net/gaetanlion/effect-size-presentation)\n",
    "\n",
    "\n",
    "\n",
    "### P-value vs. Effect Size\n",
    "\n",
    "Effect size measurement places its emphasis on the effect size only, unlike statistical significance which combines effect size and sample size, thus promoting a more scientific approach towards knowledge accumulation. Effect size is therefore routinely used towards **Meta-Analysis** i.e. for combining and comparing estimates from different studies conducted on different samples. \n",
    "\n",
    "By increasing sample size, you can show there is a statistically significant difference between two means. However, **statistically significant does not necessarily imply “significant.\"**.\n",
    "\n",
    ">**P value** = probability sample means are the same.\n",
    "\n",
    ">(1 – P) or **Confidence Level** = probability sample means are different.\n",
    "\n",
    ">**Effect Size** = how different sample means are\n",
    "\n",
    "\n",
    "In light of this, it is possible to achieve highly significant p-values for effect sizes that have no practical significance. In contrast, study designs with low power can produce non-significant p-values for effect sizes of great practical importance.\n",
    "\n",
    "[Further details on p-value vs. effect size calculation](http://www.win-vector.com/blog/2017/09/remember-p-values-are-not-effect-sizes/)\n",
    "\n",
    "## Why do data scientists need to know about 'Effect Size'?\n",
    "\n",
    "Consider the experiment conducted by Dowson (2000) to investigate time of day effects on children learning: do children learn better in the morning or afternoon? A group of 38 children was included in the experiment. Half were randomly allocated to listen to a story and answer questions about it at 9am, the other half heard exactly the same story and had to answer the same questions at 3pm. Their comprehension was measured by the number of questions answered correctly out of 20.\n",
    "\n",
    "The average score was 15.2 for the morning group and 17.9 for the afternoon group, giving a difference of 2.7. \n",
    "**How big a difference is this? **\n",
    "\n",
    "If the results were measured on a standard scale, such as a 4 point GPA scale, interpreting the difference would not be a problem. If the average difference was, say, half a grade or a full grade, most people would have a fair idea of the educational significance of the effect of reading a story at different times of the day. However, in many experiments, there is no familiar scale available on which to record the outcomes i.e. student comprehension in this case. The experimenter often has to invent a scale or use (or adapt) an already existing one - but generally, most people would be unfamiliar with the interpretation of this scaler.\n",
    "\n",
    "In a data analytics domain, effect size calculation serves three primary goals:\n",
    "\n",
    "* Communicate the **practical significance** of results. An effect might be statistically significant, but does it matter in practical scenarios?\n",
    "\n",
    "* Effect size calculation and interpretation allows you to draw **Meta-Analytical** conclusions. This allows you to group together a number of existing studies, calculate the meta-analytic effect size and get the best estimate of the effect size of the population. \n",
    "\n",
    "* Perform **Power Analysis**, which help determine the number of participants (sample size) that a study requires to achieve a certain probability of finding a true effect - if there is one. \n",
    "\n",
    "\n",
    "## Calculating effect size in Python \n",
    "\n",
    "### Using SciPy for measuring effect size\n",
    "\n",
    "SciPy (pronounced “Sigh Pie”) is open-source software for mathematics, science, and engineering. The SciPy package contains various toolboxes dedicated to common issues in scientific computing. Its different submodules correspond to different applications, such as interpolation, integration, optimization, image processing, statistics, special functions, etc. For an experiment, you can use `scipy.stats` package which contains statistical tools and probabilistic descriptions of random processes. Detailed documentation of SciPy is available [here](https://docs.scipy.org/doc/scipy/reference/index.html). "
   ]
  },
  {
   "cell_type": "code",
   "execution_count": 1,
   "metadata": {},
   "outputs": [],
   "source": [
    "# Import necessary modules \n",
    "from __future__ import print_function, division\n",
    "import numpy as np\n",
    "\n",
    "# Import SciPy stats and matplotlib for calculating and visualising effect size\n",
    "import scipy.stats\n",
    "import matplotlib.pyplot as plt\n",
    "\n",
    "%matplotlib inline\n",
    "\n",
    "# seed the random number generator so you get the same results\n",
    "np.random.seed(10)"
   ]
  },
  {
   "cell_type": "markdown",
   "metadata": {},
   "source": [
    "### Example: \n",
    "To explore statistics that quantify effect size, let's first look at the difference in height between men and women in the USA, based on the mean and standard deviation for male and female heights as given in (BRFSS) Behavioral Risk Factor Surveillance System.\n",
    "\n",
    ">**Males Height**  (Mean = 178 , Standard Deviation = 7.7)\n",
    "\n",
    ">**Female Height** (Mean = 163 , Standard Deviation = 7.3)\n",
    "\n",
    "You can use `scipy.stats.norm()` to represent the height distributions by passing mean and standard deviation values as arguments for creating normal distribution. "
   ]
  },
  {
   "cell_type": "code",
   "execution_count": 2,
   "metadata": {},
   "outputs": [],
   "source": [
    "#Mean height and sd for males\n",
    "male_mean = 178\n",
    "male_sd = 7.7\n",
    "\n",
    "# Generate a normal distribution for male heights \n",
    "male_height = scipy.stats.norm(male_mean, male_sd)"
   ]
  },
  {
   "cell_type": "markdown",
   "metadata": {},
   "source": [
    " The result `male_height` is a SciPy `rv` object which represents a **normal continuous random variable**. "
   ]
  },
  {
   "cell_type": "code",
   "execution_count": 3,
   "metadata": {},
   "outputs": [
    {
     "data": {
      "text/plain": [
       "<scipy.stats._distn_infrastructure.rv_frozen at 0x7fe4452ba6d8>"
      ]
     },
     "execution_count": 3,
     "metadata": {},
     "output_type": "execute_result"
    }
   ],
   "source": [
    "male_height"
   ]
  },
  {
   "cell_type": "markdown",
   "metadata": {},
   "source": [
    "Use the mean and standard deviation for female height and repeat calculations shown above to calculate `female_height` as an `rv` object."
   ]
  },
  {
   "cell_type": "code",
   "execution_count": 4,
   "metadata": {},
   "outputs": [],
   "source": [
    "female_mean = 163\n",
    "female_sd = 7.3\n",
    "female_height = scipy.stats.norm(female_mean, female_sd)"
   ]
  },
  {
   "cell_type": "markdown",
   "metadata": {},
   "source": [
    "##  Evaluate Probability Density Function (PDF)\n",
    "\n",
    "A continuous random variable, as calculated above, takes on an uncountably infinite number of possible values. \n",
    "\n",
    "For a **discrete** random variable X that takes on a finite or infinite number of possible values, we determine P(X = x) for all of the possible values of X and call it the probability mass function (PMF). \n",
    "\n",
    "For **continuous** random variables, as in the case of heights, the probability that X takes on any particular value x is 0. That is, finding P(X = x) for a continuous random variable X is not going to work. Instead, you'll need to find the probability that X falls in some interval (a, b) i.e. you'll need to find **P(a < X < b)** using a **probability density function(PDF)**. \n",
    "\n",
    "\n",
    "The following function evaluates the normal (Gaussian) probability density function within 4 standard deviations of the mean. The function ingests an rv object and returns a pair of NumPy arrays."
   ]
  },
  {
   "cell_type": "code",
   "execution_count": 5,
   "metadata": {},
   "outputs": [],
   "source": [
    "def evaluate_PDF(rv, x=4):\n",
    "    '''Input: a random variable object, standard deviation\n",
    "       output : x and y values for the normal distribution\n",
    "       '''\n",
    "    \n",
    "    # Identify the mean and standard deviation of random variable \n",
    "    mean = rv.mean()\n",
    "    std = rv.std()\n",
    "\n",
    "    # Use numpy to calculate evenly spaced numbers over the specified interval (4 sd) and generate 100 samples.\n",
    "    xs = np.linspace(mean - x*std, mean + x*std, 100)\n",
    "    \n",
    "    # Calculate the peak of normal distribution i.e. probability density. \n",
    "    ys = rv.pdf(xs)\n",
    "\n",
    "    return xs, ys # Return calculated values"
   ]
  },
  {
   "cell_type": "markdown",
   "metadata": {},
   "source": [
    "Let's use the function above to calculate xs and ys for male and female heights (pass the `rv` object as an argument) and plot the resulting xs and ys for both distributions to visualize the effect size.**  "
   ]
  },
  {
   "cell_type": "code",
   "execution_count": 8,
   "metadata": {},
   "outputs": [
    {
     "data": {
      "image/png": "[encoded data removed]",
      "text/plain": [
       "<Figure size 432x288 with 1 Axes>"
      ]
     },
     "metadata": {
      "needs_background": "light"
     },
     "output_type": "display_data"
    }
   ],
   "source": [
    "# Male height\n",
    "xs, ys = evaluate_PDF(male_height)\n",
    "plt.plot(xs, ys, label='male', linewidth=4, color='#beaed4') \n",
    "\n",
    "#Female height \n",
    "xs, ys = evaluate_PDF(female_height)\n",
    "plt.plot(xs, ys, label='female', linewidth=4, color='#fdc086')\n",
    "\n",
    "plt.xlabel('height (cm)')\n",
    "plt.legend();"
   ]
  },
  {
   "cell_type": "markdown",
   "metadata": {},
   "source": [
    "Let's assume for the sake of simplicity that these are the true distributions for the population. As you studied earlier, in real life one would never observe the true population distribution.  You generally have to work with a random sample. Let's try to work out how different these two groups are with respect to height by calculating un-standardized and standardized effect sizes.\n",
    "\n",
    "\n",
    "\n",
    "## Un-standardized or Simple Effect Size Calculation\n",
    "\n",
    "An unstandardized effect size simply tries to find the difference between two groups by calculating the difference between distribution means. Here is how you can do it in python. \n",
    "\n",
    "You can use the `rvs` method from `scipy.stats` to generate a random sample of size 1000 from the population distributions.  Note that these are totally random and representative samples, with no measurement error.\n",
    "\n",
    "\n",
    "Visit [this link](https://docs.scipy.org/doc/scipy-1.0.0/reference/tutorial/stats.html) for more details on `sciPy.stats`. "
   ]
  },
  {
   "cell_type": "code",
   "execution_count": 9,
   "metadata": {},
   "outputs": [],
   "source": [
    "male_sample = male_height.rvs(1000)"
   ]
  },
  {
   "cell_type": "markdown",
   "metadata": {},
   "source": [
    "The resulting samples are numPy arrays, so we can now easily calculate the mean and sd of random samples. "
   ]
  },
  {
   "cell_type": "code",
   "execution_count": 10,
   "metadata": {},
   "outputs": [
    {
     "data": {
      "text/plain": [
       "(177.88791390576085, 7.222274730410271)"
      ]
     },
     "execution_count": 10,
     "metadata": {},
     "output_type": "execute_result"
    }
   ],
   "source": [
    "mean1, std1 = male_sample.mean(), male_sample.std()\n",
    "mean1, std1\n",
    "# (177.88791390576085, 7.222274730410271)"
   ]
  },
  {
   "cell_type": "markdown",
   "metadata": {},
   "source": [
    "The sample mean is close to the population mean, but not exactly the same, as expected.\n",
    "\n",
    "Now, perform above calculation for female heights to calculate mean and sd of random samples from `female_height` `rv` object**"
   ]
  },
  {
   "cell_type": "code",
   "execution_count": 11,
   "metadata": {},
   "outputs": [
    {
     "data": {
      "text/plain": [
       "(162.91903182040372, 7.261850929417819)"
      ]
     },
     "execution_count": 11,
     "metadata": {},
     "output_type": "execute_result"
    }
   ],
   "source": [
    "female_sample = female_height.rvs(1000)\n",
    "mean2, std2 = female_sample.mean(), female_sample.std()\n",
    "mean2, std2\n",
    "# (162.91903182040372, 7.261850929417819)"
   ]
  },
  {
   "cell_type": "markdown",
   "metadata": {},
   "source": [
    "And the results are similar for the female sample.\n",
    "\n",
    "Now, there are many ways to describe the magnitude of the difference between these distributions. An obvious one is the difference in the means. \n",
    "\n",
    "Now, calculate the difference in means of both distributions identified above.**"
   ]
  },
  {
   "cell_type": "code",
   "execution_count": 12,
   "metadata": {},
   "outputs": [
    {
     "data": {
      "text/plain": [
       "14.968882085357137"
      ]
     },
     "execution_count": 12,
     "metadata": {},
     "output_type": "execute_result"
    }
   ],
   "source": [
    "difference_in_means = male_sample.mean() - female_sample.mean()\n",
    "difference_in_means # in cm\n",
    "# 14.968882085357137"
   ]
  },
  {
   "cell_type": "markdown",
   "metadata": {},
   "source": [
    "This shows that on average, men are around 15 centimeters taller. For some applications, that would be a good way to describe the difference, but there are caveats:\n",
    "\n",
    "* Without knowing more about the distributions (like the standard deviations or _spread_ of each distribution) it's hard to interpret whether a difference like 15 cm is a **big difference** or not.\n",
    "\n",
    "* The magnitude of the difference depends on the units of measure, making it hard to compare across different studies that may be conducted with different units of measurement.\n",
    "\n",
    "There are a number of ways to quantify the difference between distributions.  A simple option is to express the difference as a percentage of the mean.\n",
    "\n",
    "\n",
    "Let's figure out the relative difference in the means of two populations, scaled by the mean of male heights and  expressed as a percentage. "
   ]
  },
  {
   "cell_type": "code",
   "execution_count": 13,
   "metadata": {},
   "outputs": [
    {
     "data": {
      "text/plain": [
       "8.414783082614122"
      ]
     },
     "execution_count": 13,
     "metadata": {},
     "output_type": "execute_result"
    }
   ],
   "source": [
    "relative_difference = difference_in_means / male_sample.mean()\n",
    "relative_difference * 100   # percent\n",
    "\n",
    "#  8.414783082614122"
   ]
  },
  {
   "cell_type": "markdown",
   "metadata": {},
   "source": [
    "But a problem with relative differences is that you have to choose which mean to express them relative to."
   ]
  },
  {
   "cell_type": "code",
   "execution_count": 14,
   "metadata": {},
   "outputs": [
    {
     "data": {
      "text/plain": [
       "9.18792722869745"
      ]
     },
     "execution_count": 14,
     "metadata": {},
     "output_type": "execute_result"
    }
   ],
   "source": [
    "relative_difference = difference_in_means / female_sample.mean()\n",
    "relative_difference * 100    # percent\n",
    "\n",
    "# 9.18792722869745"
   ]
  },
  {
   "cell_type": "markdown",
   "metadata": {},
   "source": [
    "## Overlap threshold\n",
    "\n",
    "As you can see above, there is still a difference in results when you express the relative difference, depending on whether we choose to represent the ratio relative to male height or female height. Perhaps you can look for the amount of overlap between the two distributions.  To define overlap, you choose a threshold between the two means.  The simple threshold is the midpoint between the means:"
   ]
  },
  {
   "cell_type": "code",
   "execution_count": 15,
   "metadata": {},
   "outputs": [
    {
     "data": {
      "text/plain": [
       "170.4034728630823"
      ]
     },
     "execution_count": 15,
     "metadata": {},
     "output_type": "execute_result"
    }
   ],
   "source": [
    "simple_thresh = (mean1 + mean2) / 2\n",
    "simple_thresh"
   ]
  },
  {
   "cell_type": "markdown",
   "metadata": {},
   "source": [
    "A better, but slightly more complicated threshold is the place where the PDFs cross."
   ]
  },
  {
   "cell_type": "code",
   "execution_count": 16,
   "metadata": {},
   "outputs": [
    {
     "data": {
      "text/plain": [
       "170.42392323303363"
      ]
     },
     "execution_count": 16,
     "metadata": {},
     "output_type": "execute_result"
    }
   ],
   "source": [
    "thresh = (std1 * mean2 + std2 * mean1) / (std1 + std2)\n",
    "thresh"
   ]
  },
  {
   "cell_type": "markdown",
   "metadata": {},
   "source": [
    "In this example, there's not much difference between the two thresholds.\n",
    "Now you can count how many men are below the threshold:"
   ]
  },
  {
   "cell_type": "code",
   "execution_count": 17,
   "metadata": {},
   "outputs": [
    {
     "data": {
      "text/plain": [
       "154"
      ]
     },
     "execution_count": 17,
     "metadata": {},
     "output_type": "execute_result"
    }
   ],
   "source": [
    "male_below_thresh = sum(male_sample < thresh)\n",
    "male_below_thresh"
   ]
  },
  {
   "cell_type": "markdown",
   "metadata": {},
   "source": [
    "Similarly, you can calculate how many women are above the calculated threshold"
   ]
  },
  {
   "cell_type": "code",
   "execution_count": 18,
   "metadata": {},
   "outputs": [
    {
     "data": {
      "text/plain": [
       "152"
      ]
     },
     "execution_count": 18,
     "metadata": {},
     "output_type": "execute_result"
    }
   ],
   "source": [
    "female_above_thresh = sum(female_sample > thresh)\n",
    "female_above_thresh"
   ]
  },
  {
   "cell_type": "markdown",
   "metadata": {},
   "source": [
    "Now, take a look at what these thresholds look like when laid over the Probability Density Functions of both samples' distributions."
   ]
  },
  {
   "cell_type": "code",
   "execution_count": 19,
   "metadata": {},
   "outputs": [
    {
     "data": {
      "text/plain": [
       "Text(0.5, 0, 'height (cm)')"
      ]
     },
     "execution_count": 19,
     "metadata": {},
     "output_type": "execute_result"
    },
    {
     "data": {
      "image/png": "[encoded data removed]",
      "text/plain": [
       "<Figure size 432x288 with 1 Axes>"
      ]
     },
     "metadata": {
      "needs_background": "light"
     },
     "output_type": "display_data"
    }
   ],
   "source": [
    "# Male height\n",
    "m_xs, male_ys = evaluate_PDF(male_height)\n",
    "plt.plot(m_xs, male_ys, label='male', linewidth=4, color='#beaed4') \n",
    "\n",
    "#Female height \n",
    "f_xs, female_ys = evaluate_PDF(female_height)\n",
    "plt.plot(f_xs, female_ys, label='female', linewidth=4, color='#fdc086')\n",
    "plt.vlines(thresh,ymin=0,ymax=0.06)\n",
    "plt.fill_betweenx(male_ys,x1 = m_xs,x2=thresh, where = m_xs < thresh,color='b')\n",
    "plt.fill_betweenx(female_ys,x1=f_xs,x2=thresh, where = f_xs > thresh,color='b')\n",
    "plt.xlabel('height (cm)')"
   ]
  },
  {
   "cell_type": "markdown",
   "metadata": {},
   "source": [
    "The \"overlap\" (shaded region above) is the total **AUC (Area Under the Curves)**. You can use this to identify the sample that end up on the wrong side of the threshold. You can calculate the amount of overlap as shown below. "
   ]
  },
  {
   "cell_type": "code",
   "execution_count": 20,
   "metadata": {},
   "outputs": [
    {
     "data": {
      "text/plain": [
       "0.306"
      ]
     },
     "execution_count": 20,
     "metadata": {},
     "output_type": "execute_result"
    }
   ],
   "source": [
    "# Calculate the overlap \n",
    "overlap = male_below_thresh / len(male_sample) + female_above_thresh / len(female_sample)\n",
    "overlap"
   ]
  },
  {
   "cell_type": "markdown",
   "metadata": {},
   "source": [
    "Or in more practical terms, you might report the fraction of people who would be misclassified if you tried to use height to guess sex:"
   ]
  },
  {
   "cell_type": "code",
   "execution_count": 21,
   "metadata": {},
   "outputs": [
    {
     "data": {
      "text/plain": [
       "0.153"
      ]
     },
     "execution_count": 21,
     "metadata": {},
     "output_type": "execute_result"
    }
   ],
   "source": [
    "misclassification_rate = overlap / 2\n",
    "misclassification_rate"
   ]
  },
  {
   "cell_type": "markdown",
   "metadata": {},
   "source": [
    "## Probability of superiority (Non-parametric)\n",
    "\n",
    "Another \"non-parametric\" way to quantify the difference between distributions is what's called **\"probability of superiority\"**, which is the probability that *\"a randomly-chosen man is taller than a randomly-chosen woman\"*, which makes perfect sense.\n",
    "\n",
    "> Question: If you chose a male and a female sample at random, what is the probability that males are taller than females? "
   ]
  },
  {
   "cell_type": "code",
   "execution_count": 22,
   "metadata": {},
   "outputs": [
    {
     "data": {
      "text/plain": [
       "0.94"
      ]
     },
     "execution_count": 22,
     "metadata": {},
     "output_type": "execute_result"
    }
   ],
   "source": [
    "# Python zip() The zip() function take iterables (can be zero or more), \n",
    "# makes iterator that aggregates elements based on the iterables passed, \n",
    "# and returns an iterator of tuples.\n",
    "\n",
    "sum(x > y for x, y in zip(male_sample, female_sample)) / len(male_sample)"
   ]
  },
  {
   "cell_type": "markdown",
   "metadata": {},
   "source": [
    "> Question: If you chose a female and a male sample at random, what is the probability that females are smaller than males in height? Is it different/same as above? **"
   ]
  },
  {
   "cell_type": "code",
   "execution_count": 23,
   "metadata": {},
   "outputs": [
    {
     "data": {
      "text/plain": [
       "0.94"
      ]
     },
     "execution_count": 23,
     "metadata": {},
     "output_type": "execute_result"
    }
   ],
   "source": [
    "sum(x < y for x, y in zip(female_sample, male_sample)) / len(female_sample)"
   ]
  },
  {
   "cell_type": "markdown",
   "metadata": {},
   "source": [
    "Overlap (or misclassification rate) as shown above and \"probability of superiority\" have two good properties:\n",
    "\n",
    "* As probabilities, they don't depend on units of measure, so they are comparable between studies.\n",
    "\n",
    "* They are expressed in operational terms, so a reader has a sense of what practical effect the difference makes.\n",
    "\n",
    "There is one other common way to express the difference between distributions (i.e. the difference in means) standardizing by dividing by the standard deviation.\n",
    "\n"
   ]
  },
  {
   "cell_type": "markdown",
   "metadata": {},
   "source": [
    "Here's a function that encapsulates the code you have already seen for computing overlap and probability of superiority."
   ]
  },
  {
   "cell_type": "code",
   "execution_count": 24,
   "metadata": {},
   "outputs": [],
   "source": [
    "def overlap_superiority(group1, group2, n=1000):\n",
    "    \"\"\"Estimates overlap and superiority based on a sample.\n",
    "    \n",
    "    group1: scipy.stats rv object\n",
    "    group2: scipy.stats rv object\n",
    "    n: sample size\n",
    "    \"\"\"\n",
    "\n",
    "    # Get a sample of size n from both groups\n",
    "    group1_sample = group1.rvs(n)\n",
    "    group2_sample = group2.rvs(n)\n",
    "    \n",
    "    # Identify the threshold between samples\n",
    "    thresh = (group1.mean() + group2.mean()) / 2\n",
    "    print(thresh)\n",
    "    \n",
    "    # Calculate no. of values above and below for group 1 and group 2 respectively\n",
    "    above = sum(group1_sample < thresh)\n",
    "    below = sum(group2_sample > thresh)\n",
    "    \n",
    "    # Calculate the overlap\n",
    "    overlap = (above + below) / n\n",
    "    \n",
    "    # Calculate probability of superiority\n",
    "    superiority = sum(x > y for x, y in zip(group1_sample, group2_sample)) / n\n",
    "\n",
    "    return overlap, superiority"
   ]
  },
  {
   "cell_type": "code",
   "execution_count": 25,
   "metadata": {},
   "outputs": [
    {
     "name": "stdout",
     "output_type": "stream",
     "text": [
      "170.5\n"
     ]
    },
    {
     "data": {
      "text/plain": [
       "(0.336, 0.94)"
      ]
     },
     "execution_count": 25,
     "metadata": {},
     "output_type": "execute_result"
    }
   ],
   "source": [
    "\n",
    "overlap_superiority(male_height, female_height, n=1000)"
   ]
  },
  {
   "cell_type": "markdown",
   "metadata": {},
   "source": [
    "## Standardized effect size\n",
    "\n",
    "When analysts generally talk about effect sizes, they refer to some method of calculating a *standardized* effect size. The standardized effect size statistic would divide effect size by some standardizer i.e. standard deviation:\n",
    "\n",
    ">**Effect Size / Standardiser**\n",
    "\n",
    "When interpreting, this statistic would be in terms of standard deviations e.g. The mean height of males in USA is 1.4 standard deviations higher than mean female heights etc. The effect size measure you will be learning about in this lesson is Cohen’s d. This measure expresses the size of an effect in terms of the number of standard deviations, similar to a z-score in statistics."
   ]
  },
  {
   "cell_type": "code",
   "execution_count": 26,
   "metadata": {},
   "outputs": [
    {
     "data": {
      "text/plain": [
       "'Cohen’s d is similar to the unpaired t test t value. It relies on Standard Deviations instead of Standard Errors'"
      ]
     },
     "execution_count": 26,
     "metadata": {},
     "output_type": "execute_result"
    }
   ],
   "source": [
    "## not covered yet\n",
    "\"Cohen’s d is similar to the unpaired t test t value. It relies on Standard Deviations instead of Standard Errors\"\n"
   ]
  },
  {
   "cell_type": "markdown",
   "metadata": {},
   "source": [
    "## Cohen's $d$\n",
    "\n",
    "Cohen’s D is one of the most common ways to measure effect size.  As an effect size, Cohen's d is typically used to represent the magnitude of differences between two (or more) groups on a given variable, with larger values representing a greater differentiation between the two groups on that variable. \n",
    "\n",
    "The basic formula to calculate Cohen’s $d$ is:\n",
    "\n",
    "> ** $d$ = effect size (difference of means) / pooled standard deviation **\n",
    "\n",
    "The denominator is the **standardiser**, and it is important to select the most appropriate one for a given dataset. The pooled standard deviation is the average spread of all data points around their group mean (not the overall mean). "
   ]
  },
  {
   "cell_type": "code",
   "execution_count": 27,
   "metadata": {},
   "outputs": [],
   "source": [
    "def Cohen_d(group1, group2):\n",
    "\n",
    "    # Compute Cohen's d.\n",
    "\n",
    "    # group1: Series or NumPy array\n",
    "    # group2: Series or NumPy array\n",
    "\n",
    "    # returns a floating point number \n",
    "\n",
    "    diff = group1.mean() - group2.mean()\n",
    "\n",
    "    n1, n2 = len(group1), len(group2)\n",
    "    var1 = group1.var()\n",
    "    var2 = group2.var()\n",
    "\n",
    "    # Calculate the pooled threshold as shown earlier\n",
    "    pooled_var = (n1 * var1 + n2 * var2) / (n1 + n2)\n",
    "    \n",
    "    # Calculate Cohen's d statistic\n",
    "    d = diff / np.sqrt(pooled_var)\n",
    "    \n",
    "    return d"
   ]
  },
  {
   "cell_type": "markdown",
   "metadata": {},
   "source": [
    "Computing the denominator is a little complicated; in fact, people have proposed several ways to do it.  [Here](https://scientificallysound.org/2017/07/13/cohens-d-standardiser/) is a brief description of using standardizers while calculating Cohen's $d$ for standardized effect sizes.  \n",
    "\n",
    "This implementation uses the \"pooled standard deviation,\" which is a weighted average of the standard deviations of the two groups.\n",
    "\n",
    "And here's the result for the difference in height between men and women."
   ]
  },
  {
   "cell_type": "code",
   "execution_count": 28,
   "metadata": {},
   "outputs": [
    {
     "data": {
      "text/plain": [
       "2.0669285200851877"
      ]
     },
     "execution_count": 28,
     "metadata": {},
     "output_type": "execute_result"
    }
   ],
   "source": [
    "Cohen_d(male_sample, female_sample)"
   ]
  },
  {
   "cell_type": "markdown",
   "metadata": {},
   "source": [
    "## Interpreting $d$\n",
    "Most people don't have a good sense of how big $d=2.0$ is. If you are having trouble visualizing what the result of Cohen’s D means, use these general “rule of thumb” guidelines (which Cohen said should be used cautiously):\n",
    "\n",
    ">**Small effect = 0.2**\n",
    "\n",
    ">**Medium Effect = 0.5**\n",
    "\n",
    ">**Large Effect = 0.8**\n",
    "\n",
    "Here is an excellent online visualization tool developed by [Kristoffer Magnusson](https://rpsychologist.com/d3/cohend/) to help interpret the results of cohen's $d$ statistic. \n",
    "\n",
    "Following function that takes Cohen's $d$, plots normal distributions with the given effect size, and prints their overlap and superiority."
   ]
  },
  {
   "cell_type": "code",
   "execution_count": 29,
   "metadata": {},
   "outputs": [],
   "source": [
    "def plot_pdfs(cohen_d=2):\n",
    "    \"\"\"Plot PDFs for distributions that differ by some number of stds.\n",
    "    \n",
    "    cohen_d: number of standard deviations between the means\n",
    "    \"\"\"\n",
    "    group1 = scipy.stats.norm(0, 1)\n",
    "    group2 = scipy.stats.norm(cohen_d, 1)\n",
    "    xs, ys = evaluate_PDF(group1)\n",
    "    plt.fill_between(xs, ys, label='Group1', color='#ff2289', alpha=0.7)\n",
    "\n",
    "    xs, ys = evaluate_PDF(group2)\n",
    "    plt.fill_between(xs, ys, label='Group2', color='#376cb0', alpha=0.7)\n",
    "    \n",
    "    o, s = overlap_superiority(group1, group2)\n",
    "    print('overlap', o)\n",
    "    print('superiority', s)"
   ]
  },
  {
   "cell_type": "markdown",
   "metadata": {},
   "source": [
    "Here's an example that demonstrates the function:"
   ]
  },
  {
   "cell_type": "code",
   "execution_count": 30,
   "metadata": {},
   "outputs": [
    {
     "name": "stdout",
     "output_type": "stream",
     "text": [
      "2.5\n",
      "overlap 1.992\n",
      "superiority 0.0\n"
     ]
    },
    {
     "data": {
      "image/png": "[encoded data removed]",
      "text/plain": [
       "<Figure size 432x288 with 1 Axes>"
      ]
     },
     "metadata": {
      "needs_background": "light"
     },
     "output_type": "display_data"
    }
   ],
   "source": [
    "plot_pdfs(5)\n",
    "# Try changing the d value and observe the effect on the outcome below"
   ]
  },
  {
   "cell_type": "markdown",
   "metadata": {},
   "source": [
    "Cohen's $d$ has a few nice properties:\n",
    "\n",
    "* Because mean and standard deviation have the same units, their ratio is dimensionless, so you can compare $d$ across different studies.\n",
    "\n",
    "* In fields that commonly use $d$, people are calibrated to know what values should be considered big, surprising, or important.\n",
    "\n",
    "* Given $d$ (and the assumption that the distributions are normal), you can compute overlap, superiority, and related statistics."
   ]
  },
  {
   "cell_type": "markdown",
   "metadata": {},
   "source": [
    "## Summary\n",
    "\n",
    "In this lesson, you highlighted the importance of calculating and interpreting effect size in Python as a measure of observing real world difference between two groups. You learned about simple (unstandardized) effect size calculation as the difference of means, as well as standardization of this calculation with standard deviation as a standardizer. You also learned what is Cohen's d statistic and how to use it for practical purposes. The best way to report effect size often depends on the audience, goals, and subjects of study.  There is often a tradeoff between summary statistics that have good technical properties and statistics that are meaningful to a general audience."
   ]
  }
 ],
 "metadata": {
  "celltoolbar": "Raw Cell Format",
  "kernelspec": {
   "display_name": "Python 3",
   "language": "python",
   "name": "python3"
  },
  "language_info": {
   "codemirror_mode": {
    "name": "ipython",
    "version": 3
   },
   "file_extension": ".py",
   "mimetype": "text/x-python",
   "name": "python",
   "nbconvert_exporter": "python",
   "pygments_lexer": "ipython3",
   "version": "3.6.6"
  }
 },
 "nbformat": 4,
 "nbformat_minor": 1
}
